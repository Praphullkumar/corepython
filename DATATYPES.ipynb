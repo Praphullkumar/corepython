{
 "cells": [
  {
   "cell_type": "markdown",
   "id": "8a45127a",
   "metadata": {},
   "source": [
    "## introduction to datatypes"
   ]
  },
  {
   "cell_type": "code",
   "execution_count": 3,
   "id": "9cbf7b78",
   "metadata": {},
   "outputs": [],
   "source": [
    "i= 19"
   ]
  },
  {
   "cell_type": "code",
   "execution_count": 4,
   "id": "326abb7c",
   "metadata": {},
   "outputs": [
    {
     "data": {
      "text/plain": [
       "int"
      ]
     },
     "execution_count": 4,
     "metadata": {},
     "output_type": "execute_result"
    }
   ],
   "source": [
    "type(i)"
   ]
  },
  {
   "cell_type": "code",
   "execution_count": 5,
   "id": "00f95c3f",
   "metadata": {},
   "outputs": [
    {
     "data": {
      "text/plain": [
       "140720088684880"
      ]
     },
     "execution_count": 5,
     "metadata": {},
     "output_type": "execute_result"
    }
   ],
   "source": [
    "id(i)# memory allocation\n"
   ]
  },
  {
   "cell_type": "code",
   "execution_count": 6,
   "id": "ade00775",
   "metadata": {},
   "outputs": [
    {
     "name": "stdout",
     "output_type": "stream",
     "text": [
      "19\n"
     ]
    }
   ],
   "source": [
    "print(i)"
   ]
  },
  {
   "cell_type": "markdown",
   "id": "eb2df13d",
   "metadata": {},
   "source": [
    "# strings"
   ]
  },
  {
   "cell_type": "code",
   "execution_count": null,
   "id": "81d745c6",
   "metadata": {},
   "outputs": [],
   "source": [
    "## collection of characters\n",
    "## immutable\n",
    "## "
   ]
  }
 ],
 "metadata": {
  "kernelspec": {
   "display_name": "Python 3 (ipykernel)",
   "language": "python",
   "name": "python3"
  },
  "language_info": {
   "codemirror_mode": {
    "name": "ipython",
    "version": 3
   },
   "file_extension": ".py",
   "mimetype": "text/x-python",
   "name": "python",
   "nbconvert_exporter": "python",
   "pygments_lexer": "ipython3",
   "version": "3.8.10"
  }
 },
 "nbformat": 4,
 "nbformat_minor": 5
}
